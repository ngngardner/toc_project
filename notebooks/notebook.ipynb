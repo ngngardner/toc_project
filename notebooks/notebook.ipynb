{
 "cells": [
  {
   "cell_type": "code",
   "execution_count": 19,
   "metadata": {},
   "outputs": [],
   "source": [
    "import seaborn as sns\n",
    "from PIL import Image\n",
    "from traffic_sim.matrix import TrafficMatrix\n",
    "from traffic_sim.sim import TrafficSim"
   ]
  },
  {
   "cell_type": "code",
   "execution_count": 20,
   "metadata": {},
   "outputs": [
    {
     "data": {
      "text/plain": [
       "<AxesSubplot:>"
      ]
     },
     "execution_count": 20,
     "metadata": {},
     "output_type": "execute_result"
    },
    {
     "data": {
      "image/png": "[encoded data removed]",
      "text/plain": [
       "<Figure size 432x288 with 2 Axes>"
      ]
     },
     "metadata": {
      "needs_background": "light"
     },
     "output_type": "display_data"
    }
   ],
   "source": [
    "tm = TrafficMatrix(10, 10, density=0.02)\n",
    "# set traffic capacities (hardcoded)\n",
    "tm.cmatrix[:, 2] = 2\n",
    "tm.cmatrix[:, 8] = 2\n",
    "tm.cmatrix[3, :] = 3\n",
    "tm.cmatrix[:, 5] = 4\n",
    "\n",
    "sns.heatmap(tm.cmatrix, cmap=\"YlGnBu\", linewidth=0.5)"
   ]
  },
  {
   "cell_type": "code",
   "execution_count": 21,
   "metadata": {},
   "outputs": [
    {
     "data": {
      "image/png": "[encoded data removed]",
      "text/plain": [
       "<Figure size 432x288 with 2 Axes>"
      ]
     },
     "metadata": {
      "needs_background": "light"
     },
     "output_type": "display_data"
    }
   ],
   "source": [
    "# simulate traffic\n",
    "sim = TrafficSim(tm)\n",
    "sim.run(10)\n",
    "sim.savefig('traffic_sim')"
   ]
  },
  {
   "cell_type": "code",
   "execution_count": 22,
   "metadata": {},
   "outputs": [
    {
     "name": "stdout",
     "output_type": "stream",
     "text": [
      "Step 0\n",
      "(9, 5) -> (9, 5) | Goal: (9, 8) | Possible Moves: {(8, 5): 3.1622776601683795, (9, 5): 3.0}\n",
      "(0, 8) -> (0, 8) | Goal: (0, 5) | Possible Moves: {(0, 8): 3.0, (1, 8): 3.1622776601683795}\n",
      "Step 1\n",
      "(9, 5) -> (9, 5) | Goal: (9, 8) | Possible Moves: {(8, 5): 3.1622776601683795, (9, 5): 3.0}\n",
      "(0, 8) -> (0, 8) | Goal: (0, 5) | Possible Moves: {(0, 8): 3.0, (1, 8): 3.1622776601683795}\n",
      "Step 2\n",
      "(9, 5) -> (9, 5) | Goal: (9, 8) | Possible Moves: {(8, 5): 3.1622776601683795, (9, 5): 3.0}\n",
      "(0, 8) -> (0, 8) | Goal: (0, 5) | Possible Moves: {(0, 8): 3.0, (1, 8): 3.1622776601683795}\n",
      "Step 3\n",
      "(9, 5) -> (9, 5) | Goal: (9, 8) | Possible Moves: {(8, 5): 3.1622776601683795, (9, 5): 3.0}\n",
      "(0, 8) -> (0, 8) | Goal: (0, 5) | Possible Moves: {(0, 8): 3.0, (1, 8): 3.1622776601683795}\n",
      "Step 4\n",
      "(9, 5) -> (9, 5) | Goal: (9, 8) | Possible Moves: {(8, 5): 3.1622776601683795, (9, 5): 3.0}\n",
      "(0, 8) -> (0, 8) | Goal: (0, 5) | Possible Moves: {(0, 8): 3.0, (1, 8): 3.1622776601683795}\n",
      "Step 5\n",
      "(9, 5) -> (9, 5) | Goal: (9, 8) | Possible Moves: {(8, 5): 3.1622776601683795, (9, 5): 3.0}\n",
      "(0, 8) -> (0, 8) | Goal: (0, 5) | Possible Moves: {(0, 8): 3.0, (1, 8): 3.1622776601683795}\n",
      "Step 6\n",
      "(9, 5) -> (9, 5) | Goal: (9, 8) | Possible Moves: {(8, 5): 3.1622776601683795, (9, 5): 3.0}\n",
      "(0, 8) -> (0, 8) | Goal: (0, 5) | Possible Moves: {(0, 8): 3.0, (1, 8): 3.1622776601683795}\n",
      "Step 7\n",
      "(9, 5) -> (9, 5) | Goal: (9, 8) | Possible Moves: {(8, 5): 3.1622776601683795, (9, 5): 3.0}\n",
      "(0, 8) -> (0, 8) | Goal: (0, 5) | Possible Moves: {(0, 8): 3.0, (1, 8): 3.1622776601683795}\n",
      "Step 8\n",
      "(9, 5) -> (9, 5) | Goal: (9, 8) | Possible Moves: {(8, 5): 3.1622776601683795, (9, 5): 3.0}\n",
      "(0, 8) -> (0, 8) | Goal: (0, 5) | Possible Moves: {(0, 8): 3.0, (1, 8): 3.1622776601683795}\n",
      "Step 9\n",
      "(9, 5) -> (9, 5) | Goal: (9, 8) | Possible Moves: {(8, 5): 3.1622776601683795, (9, 5): 3.0}\n",
      "(0, 8) -> (0, 8) | Goal: (0, 5) | Possible Moves: {(0, 8): 3.0, (1, 8): 3.1622776601683795}\n"
     ]
    }
   ],
   "source": [
    "for idx, history in enumerate(sim.history):\n",
    "    flows = history[\"flows\"]\n",
    "    print(\"Step {0}\".format(idx))\n",
    "    for flow in flows:\n",
    "        print(\"{0} -> {1} | Goal: {2} | Possible Moves: {3}\".format(\n",
    "            flow.prev,\n",
    "            flow.location,\n",
    "            flow.dest,\n",
    "            flow.possible_moves\n",
    "        ))"
   ]
  },
  {
   "cell_type": "code",
   "execution_count": null,
   "metadata": {},
   "outputs": [],
   "source": []
  }
 ],
 "metadata": {
  "interpreter": {
   "hash": "5040fc7815e6115dc92e669f9d55af45832065b602057e0f98172859fa488100"
  },
  "kernelspec": {
   "display_name": "Python 3.9.0 64-bit ('traffic-sim-y_IyYplH-py3.9': poetry)",
   "name": "python3"
  },
  "language_info": {
   "codemirror_mode": {
    "name": "ipython",
    "version": 3
   },
   "file_extension": ".py",
   "mimetype": "text/x-python",
   "name": "python",
   "nbconvert_exporter": "python",
   "pygments_lexer": "ipython3",
   "version": "3.9.0"
  }
 },
 "nbformat": 4,
 "nbformat_minor": 5
}
