{
 "cells": [
  {
   "cell_type": "code",
   "execution_count": 1,
   "metadata": {},
   "outputs": [],
   "source": [
    "import seaborn as sns\n",
    "from PIL import Image\n",
    "from traffic_sim.matrix import TrafficMatrix\n",
    "from traffic_sim.matrix import WeightedMatrix\n",
    "from traffic_sim.sim import TrafficSim"
   ]
  },
  {
   "cell_type": "code",
   "execution_count": 2,
   "metadata": {},
   "outputs": [],
   "source": [
    "tm = WeightedMatrix(10, 10, density=0.02)\n",
    "# set traffic capacities (hardcoded)\n",
    "tm.cmatrix[:, 2] = 2\n",
    "tm.cmatrix[:, 8] = 2\n",
    "tm.cmatrix[3, :] = 3\n",
    "tm.cmatrix[:, 5] = 4\n",
    "tm.set_weights()"
   ]
  },
  {
   "cell_type": "code",
   "execution_count": 3,
   "metadata": {},
   "outputs": [
    {
     "data": {
      "text/plain": [
       "<AxesSubplot:>"
      ]
     },
     "execution_count": 3,
     "metadata": {},
     "output_type": "execute_result"
    },
    {
     "data": {
      "image/png": "[encoded data removed]",
      "text/plain": [
       "<Figure size 432x288 with 2 Axes>"
      ]
     },
     "metadata": {
      "needs_background": "light"
     },
     "output_type": "display_data"
    }
   ],
   "source": [
    "sns.heatmap(tm.cmatrix, cmap=\"YlGnBu\", linewidth=0.5)"
   ]
  },
  {
   "cell_type": "code",
   "execution_count": 4,
   "metadata": {},
   "outputs": [
    {
     "data": {
      "text/plain": [
       "<AxesSubplot:>"
      ]
     },
     "execution_count": 4,
     "metadata": {},
     "output_type": "execute_result"
    },
    {
     "data": {
      "image/png": "[encoded data removed]",
      "text/plain": [
       "<Figure size 432x288 with 2 Axes>"
      ]
     },
     "metadata": {
      "needs_background": "light"
     },
     "output_type": "display_data"
    }
   ],
   "source": [
    "sns.heatmap(tm.wmatrix, cmap=\"YlGnBu\", linewidth=0.5)"
   ]
  },
  {
   "cell_type": "code",
   "execution_count": 5,
   "metadata": {},
   "outputs": [
    {
     "data": {
      "image/png": "[encoded data removed]",
      "text/plain": [
       "<Figure size 432x288 with 2 Axes>"
      ]
     },
     "metadata": {
      "needs_background": "light"
     },
     "output_type": "display_data"
    }
   ],
   "source": [
    "# simulate traffic\n",
    "sim = TrafficSim(tm)\n",
    "sim.run(10)\n",
    "sim.savefig('traffic_sim')"
   ]
  },
  {
   "cell_type": "code",
   "execution_count": 6,
   "metadata": {},
   "outputs": [
    {
     "name": "stdout",
     "output_type": "stream",
     "text": [
      "Step 0\n",
      "(0, 2) -> (0, 2) | Goal: (6, 8) | Possible Moves: {(0, 2): 0.0, (1, 2): 0.0}\n",
      "(3, 3) -> (3, 3) | Goal: (3, 7) | Possible Moves: {(3, 3): 0.0, (3, 2): 0.0, (3, 4): 0.0}\n",
      "Step 1\n",
      "(0, 2) -> (0, 2) | Goal: (6, 8) | Possible Moves: {(0, 2): 0.0, (1, 2): 0.0}\n",
      "(3, 3) -> (3, 3) | Goal: (3, 7) | Possible Moves: {(3, 3): 0.0, (3, 2): 0.0, (3, 4): 0.0}\n",
      "Step 2\n",
      "(0, 2) -> (0, 2) | Goal: (6, 8) | Possible Moves: {(0, 2): 0.0, (1, 2): 0.0}\n",
      "(3, 3) -> (3, 3) | Goal: (3, 7) | Possible Moves: {(3, 3): 0.0, (3, 2): 0.0, (3, 4): 0.0}\n",
      "Step 3\n",
      "(0, 2) -> (0, 2) | Goal: (6, 8) | Possible Moves: {(0, 2): 0.0, (1, 2): 0.0}\n",
      "(3, 3) -> (3, 3) | Goal: (3, 7) | Possible Moves: {(3, 3): 0.0, (3, 2): 0.0, (3, 4): 0.0}\n",
      "Step 4\n",
      "(0, 2) -> (0, 2) | Goal: (6, 8) | Possible Moves: {(0, 2): 0.0, (1, 2): 0.0}\n",
      "(3, 3) -> (3, 3) | Goal: (3, 7) | Possible Moves: {(3, 3): 0.0, (3, 2): 0.0, (3, 4): 0.0}\n",
      "Step 5\n",
      "(0, 2) -> (0, 2) | Goal: (6, 8) | Possible Moves: {(0, 2): 0.0, (1, 2): 0.0}\n",
      "(3, 3) -> (3, 3) | Goal: (3, 7) | Possible Moves: {(3, 3): 0.0, (3, 2): 0.0, (3, 4): 0.0}\n",
      "Step 6\n",
      "(0, 2) -> (0, 2) | Goal: (6, 8) | Possible Moves: {(0, 2): 0.0, (1, 2): 0.0}\n",
      "(3, 3) -> (3, 3) | Goal: (3, 7) | Possible Moves: {(3, 3): 0.0, (3, 2): 0.0, (3, 4): 0.0}\n",
      "Step 7\n",
      "(0, 2) -> (0, 2) | Goal: (6, 8) | Possible Moves: {(0, 2): 0.0, (1, 2): 0.0}\n",
      "(3, 3) -> (3, 3) | Goal: (3, 7) | Possible Moves: {(3, 3): 0.0, (3, 2): 0.0, (3, 4): 0.0}\n",
      "Step 8\n",
      "(0, 2) -> (0, 2) | Goal: (6, 8) | Possible Moves: {(0, 2): 0.0, (1, 2): 0.0}\n",
      "(3, 3) -> (3, 3) | Goal: (3, 7) | Possible Moves: {(3, 3): 0.0, (3, 2): 0.0, (3, 4): 0.0}\n",
      "Step 9\n",
      "(0, 2) -> (0, 2) | Goal: (6, 8) | Possible Moves: {(0, 2): 0.0, (1, 2): 0.0}\n",
      "(3, 3) -> (3, 3) | Goal: (3, 7) | Possible Moves: {(3, 3): 0.0, (3, 2): 0.0, (3, 4): 0.0}\n"
     ]
    }
   ],
   "source": [
    "for idx, history in enumerate(sim.history):\n",
    "    flows = history[\"flows\"]\n",
    "    print(\"Step {0}\".format(idx))\n",
    "    for flow in flows:\n",
    "        print(\"{0} -> {1} | Goal: {2} | Possible Moves: {3}\".format(\n",
    "            flow.prev,\n",
    "            flow.location,\n",
    "            flow.dest,\n",
    "            flow.possible_moves\n",
    "        ))"
   ]
  },
  {
   "cell_type": "code",
   "execution_count": null,
   "metadata": {},
   "outputs": [],
   "source": []
  }
 ],
 "metadata": {
  "interpreter": {
   "hash": "38e91f39499e25b921000d5a0189e6dfcfd8ebff23941c3accf32b518fd83b74"
  },
  "kernelspec": {
   "display_name": "Python 3.9.5 64-bit ('traffic-sim-oiFfewGh-py3.9': poetry)",
   "name": "python3"
  },
  "language_info": {
   "codemirror_mode": {
    "name": "ipython",
    "version": 3
   },
   "file_extension": ".py",
   "mimetype": "text/x-python",
   "name": "python",
   "nbconvert_exporter": "python",
   "pygments_lexer": "ipython3",
   "version": "3.9.5"
  }
 },
 "nbformat": 4,
 "nbformat_minor": 5
}
