{
 "cells": [
  {
   "cell_type": "markdown",
   "metadata": {},
   "source": [
    "1. Initialize road capacity matrix, with the number 0 to represent residential areas and\n",
    "   the number 2-5 to represent roads with different widths. Also initialize\n",
    "   traffic volume distribution matrix with the same dimension, initialized to\n",
    "   all 0, regarded as no traffic volume.\n",
    "2. Partial cells are selected randomly according to density and generation rules\n",
    "   to randomly generate trafffic flows.\n",
    "3. Determine the destination for each unit of traffic flow.\n",
    "4. According to parallel and nearest rule (distance) and conflict avoidance, the\n",
    "   traffic flows are updated. When an iteration is complete, generate a new\n",
    "   traffic flow and add it to the matrix.\n",
    "5. Repeat steps 3-4 until the traffic flow matrix the maximum number of\n",
    "   iterations have transpired.\n",
    "6. The traffic distribution in the ciry at each timestep and the traffic\n",
    "   trajectory generated at different time steps are output."
   ]
  },
  {
   "cell_type": "code",
   "execution_count": 52,
   "metadata": {},
   "outputs": [],
   "source": [
    "from dataclasses import dataclass\n",
    "\n",
    "import numpy as np\n",
    "from numpy.random import default_rng\n",
    "import seaborn as sns\n",
    "\n",
    "from traffic_sim.core import example\n"
   ]
  },
  {
   "cell_type": "code",
   "execution_count": 53,
   "metadata": {},
   "outputs": [],
   "source": [
    "@dataclass\n",
    "class TrafficFlow():\n",
    "    location:tuple\n",
    "    dest:tuple\n",
    "    capacity:int\n",
    "    possible_moves:dict = None\n",
    "\n",
    "    def get_move_params(self):\n",
    "        i, j = self.location\n",
    "        x, y = self.dest\n",
    "        return i, j, x, y\n",
    "\n",
    "    def get_possible_moves(self):\n",
    "        return list(self.possible_moves.keys())\n",
    "\n",
    "    def reset_possible_moves(self):\n",
    "        i, j, x, y = self.get_move_params()\n",
    "        self.possible_moves = {\n",
    "            (i, j):(i-x)^2 + (j-y)^2,      # L(i,j)\n",
    "            (i+1, j):(i+1-x)^2 + (j-y)^2,    # L(i+1,j)\n",
    "            (i-1, j):(i-1-x)^2 + (j-y)^2,    # L(i-1,j)\n",
    "            (i, j+1):(i-x)^2 + (j+1-y)^2,    # L(i,j+1)\n",
    "            (i+1, j+1):(i+1-x)^2 + (j+1-y)^2,  # L(i+1,j+1)\n",
    "        }\n",
    "\n",
    "    def unset_possible_move(self, move:tuple):\n",
    "        \"\"\"\n",
    "        Given a move, remove it as a possible move (due to full capacity).\n",
    "        \"\"\"\n",
    "        del self.possible_moves[move]\n",
    "\n",
    "    def step(self):\n",
    "        \"\"\"\n",
    "        Calculate the next step to move from the current location to the\n",
    "        destination and update the current location.\n",
    "        \"\"\"\n",
    "        self.location = min(self.get_possible_moves())\n",
    "\n",
    "\n",
    "class TrafficMatrix():\n",
    "    def __init__(\n",
    "            self,\n",
    "            rows:int,\n",
    "            cols:int,\n",
    "            density:float = 0.05,\n",
    "            random_seed:bool = None):\n",
    "        \"\"\"\n",
    "        Initialize a traffic capacity matrix and traffic volume matrix with the\n",
    "        given size (rows, cols).\n",
    "        \"\"\"\n",
    "        self.rng = default_rng(seed=random_seed)\n",
    "        self.rows = rows\n",
    "        self.cols = cols\n",
    "        self.density = density\n",
    "        self.flows = []\n",
    "\n",
    "        # capacity matrix\n",
    "        self.cmatrix = np.zeros((rows, cols), dtype=int)\n",
    "\n",
    "        # volume matrix\n",
    "        self.vmatrix = np.zeros((rows, cols), dtype=int)\n",
    "        self.init()\n",
    "    \n",
    "    def init(self):\n",
    "        \"\"\"\n",
    "        Hard-coded roads for the traffic matrix for developing the original\n",
    "        algorithm.\n",
    "        \"\"\"\n",
    "        # set traffic capacities\n",
    "        self.cmatrix[:,2] = 2\n",
    "        self.cmatrix[:,8] = 2\n",
    "        self.cmatrix[3,:] = 3\n",
    "        self.cmatrix[:,5] = 4\n",
    "\n",
    "    def run(self, iterations:int):\n",
    "        for _ in range(iterations):\n",
    "            self.generate_flows()\n",
    "            self.update_flows()\n",
    "            self.update_matrix()\n",
    "\n",
    "\n",
    "    def select_cells(self, num_cells:int):\n",
    "        \"\"\"\n",
    "        Select cells in which to generate traffic flows based on density.\n",
    "        \"\"\"\n",
    "        # select cells with traffic capacity\n",
    "        idxs = np.where(self.cmatrix > 0)\n",
    "\n",
    "        # select num_cells cells randomly\n",
    "        res = self.rng.choice(range(len((idxs[0]))), num_cells, replace=False)\n",
    "\n",
    "        return (np.array(idxs[0])[res], np.array(idxs[1])[res])\n",
    "\n",
    "    def generate_flows(self):\n",
    "        \"\"\"\n",
    "        Generate initial traffic flows.\n",
    "        \"\"\"\n",
    "        num_cells = round(self.rows * self.cols * self.density) - len(self.flows)\n",
    "\n",
    "        # create flow origins\n",
    "        origins = self.select_cells(num_cells)\n",
    "\n",
    "        origins_list = [(origins[0][i],origins[1][i]) for i in range(len(origins[0]))]\n",
    "\n",
    "        # create flow destinations\n",
    "        dests = self.select_cells(num_cells)\n",
    "\n",
    "        dests_list = [(dests[0][i],dests[1][i]) for i in range(len(dests[0]))]\n",
    "\n",
    "        for i in range(num_cells):\n",
    "            # capacity of the flow is a random number between 1 and the capacity-1\n",
    "            capacity = self.rng.choice(range(1, self.get_capacity(origins_list[i])))\n",
    "            flow = TrafficFlow(origins_list[i], dests_list[i], capacity)\n",
    "            flow.reset_possible_moves()\n",
    "            self.flows.append(flow)\n",
    "\n",
    "    def get_capacity(self, pos:tuple):\n",
    "        \"\"\"\n",
    "        Return traffic cell capacity given a position.\n",
    "        \"\"\"\n",
    "        return self.cmatrix[pos]\n",
    "\n",
    "    def get_volume(self, pos:tuple):\n",
    "        \"\"\"\n",
    "        Return volume\n",
    "        \"\"\"\n",
    "        return self.vmatrix[pos]\n",
    "    \n",
    "    def is_full(self, pos:tuple):\n",
    "        \"\"\"\n",
    "        Check if full\n",
    "        \"\"\"\n",
    "        return self.get_capacity(pos) - self.get_volume(pos) > 0\n",
    "    \n",
    "    def in_bounds(self, pos:tuple):\n",
    "        \"\"\"\n",
    "        Check if within bounds\n",
    "        \"\"\"\n",
    "        return 0 <= pos[0] < self.rows and 0 <= pos[1] < self.cols\n",
    "\n",
    "    def update_flows(self):\n",
    "        \"\"\"\n",
    "        Get the next move for every flow, then execute each of them in \n",
    "        parallel.\n",
    "        \"\"\"\n",
    "        for flow in self.flows:\n",
    "            moves = flow.get_possible_moves()\n",
    "            for move in moves:\n",
    "                if not self.in_bounds(move) or self.is_full(move):\n",
    "                    flow.unset_possible_move(move)\n",
    "        \n",
    "            flow.step()\n",
    "\n",
    "    def update_matrix(self):\n",
    "        \"\"\"\n",
    "        Update traffic volume matrix based on current flows.\n",
    "        \"\"\"\n",
    "        self.vmatrix = np.zeros(self.vmatrix.shape, dtype=int)\n",
    "\n",
    "        for flow in self.flows:\n",
    "            location = flow.location\n",
    "            capacity = flow.capacity\n",
    "            self.vmatrix[location] += capacity\n"
   ]
  },
  {
   "cell_type": "code",
   "execution_count": 54,
   "metadata": {},
   "outputs": [
    {
     "data": {
      "text/plain": [
       "<AxesSubplot:>"
      ]
     },
     "execution_count": 54,
     "metadata": {},
     "output_type": "execute_result"
    },
    {
     "data": {
      "image/png": "[encoded data removed]",
      "text/plain": [
       "<Figure size 432x288 with 2 Axes>"
      ]
     },
     "metadata": {
      "needs_background": "light"
     },
     "output_type": "display_data"
    }
   ],
   "source": [
    "tm = TrafficMatrix(10, 10)\n",
    "sns.heatmap(tm.cmatrix, cmap=\"YlGnBu\", linewidth=0.5)"
   ]
  },
  {
   "cell_type": "code",
   "execution_count": 55,
   "metadata": {},
   "outputs": [
    {
     "data": {
      "text/plain": [
       "<AxesSubplot:>"
      ]
     },
     "execution_count": 55,
     "metadata": {},
     "output_type": "execute_result"
    },
    {
     "data": {
      "image/png": "[encoded data removed]",
      "text/plain": [
       "<Figure size 432x288 with 2 Axes>"
      ]
     },
     "metadata": {
      "needs_background": "light"
     },
     "output_type": "display_data"
    }
   ],
   "source": [
    "tm.run(5)\n",
    "sns.heatmap(tm.vmatrix, cmap=\"YlGnBu\", linewidth=0.5)"
   ]
  }
 ],
 "metadata": {
  "interpreter": {
   "hash": "38e91f39499e25b921000d5a0189e6dfcfd8ebff23941c3accf32b518fd83b74"
  },
  "kernelspec": {
   "display_name": "Python 3.9.5 64-bit ('traffic-sim-oiFfewGh-py3.9': poetry)",
   "name": "python3"
  },
  "language_info": {
   "codemirror_mode": {
    "name": "ipython",
    "version": 3
   },
   "file_extension": ".py",
   "mimetype": "text/x-python",
   "name": "python",
   "nbconvert_exporter": "python",
   "pygments_lexer": "ipython3",
   "version": "3.9.5"
  }
 },
 "nbformat": 4,
 "nbformat_minor": 5
}
