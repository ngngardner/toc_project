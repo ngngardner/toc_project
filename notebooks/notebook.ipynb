{
 "cells": [
  {
   "cell_type": "markdown",
   "metadata": {},
   "source": [
    "1. Initialize road capacity matrix, with the number 0 to represent residential areas and\n",
    "   the number 2-5 to represent roads with different widths. Also initialize\n",
    "   traffic volume distribution matrix with the same dimension, initialized to\n",
    "   all 0, regarded as no traffic volume.\n",
    "2. Partial cells are selected randomly according to density and generation rules\n",
    "   to randomly generate trafffic flows.\n",
    "3. Determine the destination for each unit of traffic flow.\n",
    "4. According to parallel and nearest rule (distance) and conflict avoidance, the\n",
    "   traffic flows are updated. When an iteration is complete, generate a new\n",
    "   traffic flow and add it to the matrix.\n",
    "5. Repeat steps 3-4 until the traffic flow matrix the maximum number of\n",
    "   iterations have transpired.\n",
    "6. The traffic distribution in the ciry at each timestep and the traffic\n",
    "   trajectory generated at different time steps are output."
   ]
  },
  {
   "cell_type": "code",
   "execution_count": 33,
   "metadata": {},
   "outputs": [],
   "source": [
    "import seaborn as sns\n",
    "import io\n",
    "import matplotlib.pyplot as plt\n",
    "import numpy as np\n",
    "from PIL import Image\n",
    "from traffic_sim.matrix import TrafficMatrix"
   ]
  },
  {
   "cell_type": "code",
   "execution_count": 34,
   "metadata": {},
   "outputs": [
    {
     "data": {
      "text/plain": [
       "<AxesSubplot:>"
      ]
     },
     "execution_count": 34,
     "metadata": {},
     "output_type": "execute_result"
    },
    {
     "data": {
      "image/png": "[encoded data removed]",
      "text/plain": [
       "<Figure size 432x288 with 2 Axes>"
      ]
     },
     "metadata": {
      "needs_background": "light"
     },
     "output_type": "display_data"
    }
   ],
   "source": [
    "tm = TrafficMatrix(10, 10)\n",
    "# set traffic capacities (hardcoded)\n",
    "tm.cmatrix[:, 2] = 2\n",
    "tm.cmatrix[:, 8] = 2\n",
    "tm.cmatrix[3, :] = 3\n",
    "tm.cmatrix[:, 5] = 4\n",
    "\n",
    "sns.heatmap(tm.cmatrix, cmap=\"YlGnBu\", linewidth=0.5)"
   ]
  },
  {
   "cell_type": "code",
   "execution_count": 35,
   "metadata": {},
   "outputs": [
    {
     "name": "stdout",
     "output_type": "stream",
     "text": [
      "0\n",
      "{'location': (6, 2), 'dest': (3, 8), 'volume': 1}\n",
      "{'location': (7, 8), 'dest': (7, 5), 'volume': 1}\n",
      "{'location': (1, 2), 'dest': (5, 8), 'volume': 1}\n",
      "{'location': (8, 2), 'dest': (1, 2), 'volume': 1}\n",
      "1\n",
      "{'location': (5, 2), 'dest': (3, 8), 'volume': 1}\n",
      "{'location': (7, 8), 'dest': (7, 5), 'volume': 1}\n",
      "{'location': (2, 2), 'dest': (5, 8), 'volume': 1}\n",
      "{'location': (7, 2), 'dest': (1, 2), 'volume': 1}\n",
      "{'location': (6, 5), 'dest': (1, 2), 'volume': 1}\n",
      "2\n",
      "{'location': (4, 2), 'dest': (3, 8), 'volume': 1}\n",
      "{'location': (7, 8), 'dest': (7, 5), 'volume': 1}\n",
      "{'location': (3, 2), 'dest': (5, 8), 'volume': 1}\n",
      "{'location': (6, 2), 'dest': (1, 2), 'volume': 1}\n",
      "{'location': (5, 5), 'dest': (1, 2), 'volume': 1}\n",
      "3\n",
      "{'location': (3, 2), 'dest': (3, 8), 'volume': 1}\n",
      "{'location': (7, 8), 'dest': (7, 5), 'volume': 1}\n",
      "{'location': (3, 3), 'dest': (5, 8), 'volume': 1}\n",
      "{'location': (5, 2), 'dest': (1, 2), 'volume': 1}\n",
      "{'location': (4, 5), 'dest': (1, 2), 'volume': 1}\n",
      "4\n",
      "{'location': (3, 3), 'dest': (3, 8), 'volume': 1}\n",
      "{'location': (7, 8), 'dest': (7, 5), 'volume': 1}\n",
      "{'location': (3, 4), 'dest': (5, 8), 'volume': 1}\n",
      "{'location': (4, 2), 'dest': (1, 2), 'volume': 1}\n",
      "{'location': (3, 5), 'dest': (1, 2), 'volume': 1}\n"
     ]
    },
    {
     "data": {
      "text/plain": [
       "<Figure size 432x288 with 0 Axes>"
      ]
     },
     "metadata": {},
     "output_type": "display_data"
    }
   ],
   "source": [
    "# im = Image.new(\"RGB\", (200, 200), \"green\")\n",
    "\n",
    "def fig2img(fig):\n",
    "    \"\"\"Convert a Matplotlib figure to a PIL Image and return it\"\"\"\n",
    "    buf = io.BytesIO()\n",
    "    plt.savefig(buf)\n",
    "    buf.seek(0)\n",
    "    img = Image.open(buf)\n",
    "    return img\n",
    "\n",
    "imList = []\n",
    "\n",
    "for i in range(5):\n",
    "    print(i)\n",
    "    for flow in tm.flows:\n",
    "        print(\"BEFORE:\", flow)\n",
    "    tm.step()\n",
    "    fig = sns.heatmap(tm.vmatrix, cmap=\"YlGnBu\", linewidth=0.5, vmin=0, vmax=np.max(tm.cmatrix))\n",
    "    im = fig2img(fig)\n",
    "    imList.append(im)\n",
    "    plt.clf()\n",
    "    for flow in tm.flows:\n",
    "        print(\"AFTER:\", flow)\n",
    "    \n",
    "imList[0].save(\"test.gif\", save_all=True, append_images=imList[1:], optimize=False, duration=750, loop=0)"
   ]
  },
  {
   "cell_type": "code",
   "execution_count": 36,
   "metadata": {},
   "outputs": [
    {
     "name": "stdout",
     "output_type": "stream",
     "text": [
      "{'location': (3, 3), 'dest': (3, 8), 'volume': 1}\n",
      "{'location': (7, 8), 'dest': (7, 5), 'volume': 1}\n",
      "{'location': (3, 4), 'dest': (5, 8), 'volume': 1}\n",
      "{'location': (4, 2), 'dest': (1, 2), 'volume': 1}\n",
      "{'location': (3, 5), 'dest': (1, 2), 'volume': 1}\n"
     ]
    }
   ],
   "source": [
    "for flow in tm.flows:\n",
    "    print(flow)"
   ]
  }
 ],
 "metadata": {
  "interpreter": {
   "hash": "38e91f39499e25b921000d5a0189e6dfcfd8ebff23941c3accf32b518fd83b74"
  },
  "kernelspec": {
   "display_name": "Python 3.9.5 64-bit ('traffic-sim-oiFfewGh-py3.9': poetry)",
   "name": "python3"
  },
  "language_info": {
   "codemirror_mode": {
    "name": "ipython",
    "version": 3
   },
   "file_extension": ".py",
   "mimetype": "text/x-python",
   "name": "python",
   "nbconvert_exporter": "python",
   "pygments_lexer": "ipython3",
   "version": "3.9.5"
  }
 },
 "nbformat": 4,
 "nbformat_minor": 5
}
