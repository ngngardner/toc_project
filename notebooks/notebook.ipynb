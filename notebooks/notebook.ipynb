{
 "cells": [
  {
   "cell_type": "markdown",
   "source": [
    "1. Initialize road capacity matrix, with the number 0 to represent residential areas and\n",
    "   the number 2-5 to represent roads with different widths. Also initialize\n",
    "   traffic volume distribution matrix with the same dimension, initialized to\n",
    "   all 0, regarded as no traffic volume.\n",
    "2. Partial cells are selected randomly according to density and generation rules\n",
    "   to randomly generate trafffic flows.\n",
    "3. Determine the destination for each unit of traffic flow.\n",
    "4. According to parallel and nearest rule (distance) and conflict avoidance, the\n",
    "   traffic flows are updated. When an iteration is complete, generate a new\n",
    "   traffic flow and add it to the matrix.\n",
    "5. Repeat steps 3-4 until the traffic flow matrix the maximum number of\n",
    "   iterations have transpired.\n",
    "6. The traffic distribution in the ciry at each timestep and the traffic\n",
    "   trajectory generated at different time steps are output."
   ],
   "metadata": {}
  },
  {
   "cell_type": "code",
   "execution_count": null,
   "source": [
    "import seaborn as sns\n",
    "from traffic_sim.core.matrix import TrafficMatrix"
   ],
   "outputs": [],
   "metadata": {}
  },
  {
   "cell_type": "code",
   "execution_count": null,
   "source": [
    "tm = TrafficMatrix(10, 10)\n",
    "tm.run(5)\n",
    "sns.heatmap(tm.cmatrix, cmap=\"YlGnBu\", linewidth=0.5)"
   ],
   "outputs": [],
   "metadata": {}
  },
  {
   "cell_type": "code",
   "execution_count": null,
   "source": [
    "sns.heatmap(tm.vmatrix, cmap=\"YlGnBu\", linewidth=0.5)"
   ],
   "outputs": [],
   "metadata": {}
  }
 ],
 "metadata": {
  "interpreter": {
   "hash": "c60e158bbdc0c349d86529875ded1ad5b3eac5e83b261dcbf02bfb49eba1d35c"
  },
  "kernelspec": {
   "name": "python3",
   "display_name": "Python 3.9.6 64-bit"
  },
  "language_info": {
   "codemirror_mode": {
    "name": "ipython",
    "version": 3
   },
   "file_extension": ".py",
   "mimetype": "text/x-python",
   "name": "python",
   "nbconvert_exporter": "python",
   "pygments_lexer": "ipython3",
   "version": "3.9.6"
  }
 },
 "nbformat": 4,
 "nbformat_minor": 5
}