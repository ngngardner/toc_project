{
 "cells": [
  {
   "cell_type": "code",
   "execution_count": 1,
   "metadata": {},
   "outputs": [],
   "source": [
    "import seaborn as sns\n",
    "from PIL import Image\n",
    "from traffic_sim.matrix import TrafficMatrix\n",
    "from traffic_sim.matrix import WeightedMatrix\n",
    "from traffic_sim.sim import TrafficSim"
   ]
  },
  {
   "cell_type": "code",
   "execution_count": 2,
   "metadata": {},
   "outputs": [],
   "source": [
    "tm = WeightedMatrix(10, 10, density=0.02)\n",
    "# set traffic capacities (hardcoded)\n",
    "tm.cmatrix[:, 2] = 2\n",
    "tm.cmatrix[:, 8] = 2\n",
    "tm.cmatrix[3, :] = 3\n",
    "tm.cmatrix[:, 5] = 4\n",
    "tm.set_weights()"
   ]
  },
  {
   "cell_type": "code",
   "execution_count": 3,
   "metadata": {},
   "outputs": [
    {
     "data": {
      "text/plain": [
       "<AxesSubplot:>"
      ]
     },
     "execution_count": 3,
     "metadata": {},
     "output_type": "execute_result"
    },
    {
     "data": {
      "image/png": "[encoded data removed]",
      "text/plain": [
       "<Figure size 432x288 with 2 Axes>"
      ]
     },
     "metadata": {
      "needs_background": "light"
     },
     "output_type": "display_data"
    }
   ],
   "source": [
    "sns.heatmap(tm.cmatrix, cmap=\"YlGnBu\", linewidth=0.5)"
   ]
  },
  {
   "cell_type": "code",
   "execution_count": 4,
   "metadata": {},
   "outputs": [
    {
     "data": {
      "text/plain": [
       "<AxesSubplot:>"
      ]
     },
     "execution_count": 4,
     "metadata": {},
     "output_type": "execute_result"
    },
    {
     "data": {
      "image/png": "[encoded data removed]",
      "text/plain": [
       "<Figure size 432x288 with 2 Axes>"
      ]
     },
     "metadata": {
      "needs_background": "light"
     },
     "output_type": "display_data"
    }
   ],
   "source": [
    "sns.heatmap(tm.wmatrix, cmap=\"YlGnBu\", linewidth=0.5)"
   ]
  },
  {
   "cell_type": "code",
   "execution_count": 5,
   "metadata": {},
   "outputs": [
    {
     "data": {
      "image/png": "[encoded data removed]",
      "text/plain": [
       "<Figure size 432x288 with 2 Axes>"
      ]
     },
     "metadata": {
      "needs_background": "light"
     },
     "output_type": "display_data"
    }
   ],
   "source": [
    "# simulate traffic\n",
    "sim = TrafficSim(tm)\n",
    "sim.run(10)\n",
    "sim.savefig('traffic_sim')"
   ]
  },
  {
   "cell_type": "code",
   "execution_count": 6,
   "metadata": {},
   "outputs": [
    {
     "name": "stdout",
     "output_type": "stream",
     "text": [
      "Step 0\n",
      "(3, 3) -> (3, 4) | Goal: (3, 4) | Possible Moves: {(3, 3): 0.25, (3, 2): 0.5, (3, 4): 0.0}\n",
      "(9, 8) -> (9, 8) | Goal: (9, 8) | Possible Moves: {(8, 8): 0.3333333333333333, (9, 8): 0.0}\n",
      "Step 1\n",
      "(3, 3) -> (3, 4) | Goal: (3, 4) | Possible Moves: {(3, 3): 0.25, (3, 2): 0.5, (3, 4): 0.0}\n",
      "(5, 5) -> (5, 5) | Goal: (5, 8) | Possible Moves: {(4, 5): 0.632455532033676, (5, 5): 0.6000000000000001, (6, 5): 0.632455532033676}\n",
      "Step 2\n",
      "(3, 3) -> (3, 4) | Goal: (3, 4) | Possible Moves: {(3, 3): 0.25, (3, 2): 0.5, (3, 4): 0.0}\n",
      "(5, 5) -> (5, 5) | Goal: (5, 8) | Possible Moves: {(4, 5): 0.632455532033676, (5, 5): 0.6000000000000001, (6, 5): 0.632455532033676}\n",
      "Step 3\n",
      "(3, 3) -> (3, 4) | Goal: (3, 4) | Possible Moves: {(3, 3): 0.25, (3, 2): 0.5, (3, 4): 0.0}\n",
      "(5, 5) -> (5, 5) | Goal: (5, 8) | Possible Moves: {(4, 5): 0.632455532033676, (5, 5): 0.6000000000000001, (6, 5): 0.632455532033676}\n",
      "Step 4\n",
      "(5, 5) -> (5, 5) | Goal: (5, 8) | Possible Moves: {(4, 5): 0.632455532033676, (5, 5): 0.6000000000000001, (6, 5): 0.632455532033676}\n",
      "(3, 5) -> (3, 4) | Goal: (2, 2) | Possible Moves: {(2, 5): 0.6000000000000001, (3, 5): 0.632455532033676, (4, 5): 0.7211102550927979, (3, 4): 0.5590169943749475, (3, 6): 1.0307764064044151}\n",
      "Step 5\n",
      "(5, 5) -> (5, 5) | Goal: (5, 8) | Possible Moves: {(4, 5): 0.632455532033676, (5, 5): 0.6000000000000001, (6, 5): 0.632455532033676}\n",
      "(3, 5) -> (3, 4) | Goal: (2, 2) | Possible Moves: {(2, 5): 0.6000000000000001, (3, 5): 0.632455532033676, (4, 5): 0.7211102550927979, (3, 4): 0.5590169943749475, (3, 6): 1.0307764064044151}\n",
      "Step 6\n",
      "(5, 5) -> (5, 5) | Goal: (5, 8) | Possible Moves: {(4, 5): 0.632455532033676, (5, 5): 0.6000000000000001, (6, 5): 0.632455532033676}\n",
      "(3, 5) -> (3, 4) | Goal: (2, 2) | Possible Moves: {(2, 5): 0.6000000000000001, (3, 5): 0.632455532033676, (4, 5): 0.7211102550927979, (3, 4): 0.5590169943749475, (3, 6): 1.0307764064044151}\n",
      "Step 7\n",
      "(5, 5) -> (5, 5) | Goal: (5, 8) | Possible Moves: {(4, 5): 0.632455532033676, (5, 5): 0.6000000000000001, (6, 5): 0.632455532033676}\n",
      "(3, 5) -> (3, 4) | Goal: (2, 2) | Possible Moves: {(2, 5): 0.6000000000000001, (3, 5): 0.632455532033676, (4, 5): 0.7211102550927979, (3, 4): 0.5590169943749475, (3, 6): 1.0307764064044151}\n",
      "Step 8\n",
      "(5, 5) -> (5, 5) | Goal: (5, 8) | Possible Moves: {(4, 5): 0.632455532033676, (5, 5): 0.6000000000000001, (6, 5): 0.632455532033676}\n",
      "(3, 5) -> (3, 4) | Goal: (2, 2) | Possible Moves: {(2, 5): 0.6000000000000001, (3, 5): 0.632455532033676, (4, 5): 0.7211102550927979, (3, 4): 0.5590169943749475, (3, 6): 1.0307764064044151}\n",
      "Step 9\n",
      "(5, 5) -> (5, 5) | Goal: (5, 8) | Possible Moves: {(4, 5): 0.632455532033676, (5, 5): 0.6000000000000001, (6, 5): 0.632455532033676}\n",
      "(3, 5) -> (3, 4) | Goal: (2, 2) | Possible Moves: {(2, 5): 0.6000000000000001, (3, 5): 0.632455532033676, (4, 5): 0.7211102550927979, (3, 4): 0.5590169943749475, (3, 6): 1.0307764064044151}\n"
     ]
    }
   ],
   "source": [
    "for idx, history in enumerate(sim.history):\n",
    "    flows = history[\"flows\"]\n",
    "    print(\"Step {0}\".format(idx))\n",
    "    for flow in flows:\n",
    "        print(\"{0} -> {1} | Goal: {2} | Possible Moves: {3}\".format(\n",
    "            flow.prev,\n",
    "            flow.location,\n",
    "            flow.dest,\n",
    "            flow.possible_moves\n",
    "        ))"
   ]
  },
  {
   "cell_type": "code",
   "execution_count": null,
   "metadata": {},
   "outputs": [],
   "source": []
  }
 ],
 "metadata": {
  "interpreter": {
   "hash": "5040fc7815e6115dc92e669f9d55af45832065b602057e0f98172859fa488100"
  },
  "kernelspec": {
   "display_name": "Python 3.9.0 64-bit ('traffic-sim-y_IyYplH-py3.9': poetry)",
   "name": "python3"
  },
  "language_info": {
   "codemirror_mode": {
    "name": "ipython",
    "version": 3
   },
   "file_extension": ".py",
   "mimetype": "text/x-python",
   "name": "python",
   "nbconvert_exporter": "python",
   "pygments_lexer": "ipython3",
   "version": "3.9.0"
  }
 },
 "nbformat": 4,
 "nbformat_minor": 5
}
